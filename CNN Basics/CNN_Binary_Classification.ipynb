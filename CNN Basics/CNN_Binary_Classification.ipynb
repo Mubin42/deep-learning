{
 "cells": [
  {
   "cell_type": "markdown",
   "metadata": {
    "id": "3DR-eO17geWu"
   },
   "source": [
    "# Convolutional Neural Network"
   ]
  },
  {
   "cell_type": "markdown",
   "metadata": {
    "id": "EMefrVPCg-60"
   },
   "source": [
    "### Importing the libraries"
   ]
  },
  {
   "cell_type": "code",
   "execution_count": 1,
   "metadata": {
    "id": "UX83ugXzVJmM"
   },
   "outputs": [],
   "source": [
    "import tensorflow as tf\n",
    "from keras.preprocessing.image import ImageDataGenerator"
   ]
  },
  {
   "cell_type": "code",
   "execution_count": 2,
   "metadata": {
    "id": "xUko566DVxzy"
   },
   "outputs": [
    {
     "name": "stdout",
     "output_type": "stream",
     "text": [
      "2.10.0\n"
     ]
    }
   ],
   "source": [
    "print(tf.__version__)"
   ]
  },
  {
   "cell_type": "markdown",
   "metadata": {
    "id": "oxQxCBWyoGPE"
   },
   "source": [
    "## Part 1 - Data Preprocessing"
   ]
  },
  {
   "cell_type": "markdown",
   "metadata": {
    "id": "MvE-heJNo3GG"
   },
   "source": [
    "### Preprocessing the Training set"
   ]
  },
  {
   "cell_type": "code",
   "execution_count": 3,
   "metadata": {
    "id": "ZL0RxoSNWAQf"
   },
   "outputs": [
    {
     "name": "stdout",
     "output_type": "stream",
     "text": [
      "Found 8000 images belonging to 2 classes.\n"
     ]
    }
   ],
   "source": [
    "#ImageAugmentation\n",
    "train_datagen = ImageDataGenerator(\n",
    "    rescale = 1./255,\n",
    "    shear_range = 0.2,\n",
    "    zoom_range = 0.2,\n",
    "    horizontal_flip = True\n",
    ")\n",
    "\n",
    "train_generator = train_datagen.flow_from_directory(\n",
    "    'dataset/training_set/',\n",
    "    target_size = (64,64),\n",
    "    batch_size=32,\n",
    "    class_mode = 'binary'\n",
    ")"
   ]
  },
  {
   "cell_type": "markdown",
   "metadata": {
    "id": "mrCMmGw9pHys"
   },
   "source": [
    "### Preprocessing the Test set"
   ]
  },
  {
   "cell_type": "code",
   "execution_count": 4,
   "metadata": {
    "id": "A3DBY0r-YlXR"
   },
   "outputs": [
    {
     "name": "stdout",
     "output_type": "stream",
     "text": [
      "Found 2000 images belonging to 2 classes.\n"
     ]
    }
   ],
   "source": [
    "test_datagen = ImageDataGenerator(rescale = 1./255)\n",
    "\n",
    "test_generator = test_datagen.flow_from_directory(\n",
    "    'dataset/test_set/',\n",
    "    target_size = (64,64),\n",
    "    batch_size=32,\n",
    "    class_mode = 'binary'\n",
    ")"
   ]
  },
  {
   "cell_type": "markdown",
   "metadata": {
    "id": "af8O4l90gk7B"
   },
   "source": [
    "## Part 2 - Building the CNN"
   ]
  },
  {
   "cell_type": "markdown",
   "metadata": {
    "id": "ces1gXY2lmoX"
   },
   "source": [
    "### Initialising the CNN"
   ]
  },
  {
   "cell_type": "code",
   "execution_count": 5,
   "metadata": {
    "id": "K6VI1gzn4Cfg"
   },
   "outputs": [],
   "source": [
    "cnn = tf.keras.models.Sequential()"
   ]
  },
  {
   "cell_type": "markdown",
   "metadata": {
    "id": "u5YJj_XMl5LF"
   },
   "source": [
    "### Step 1 - Convolution"
   ]
  },
  {
   "cell_type": "code",
   "execution_count": 7,
   "metadata": {
    "id": "12rJV8q_4VXF"
   },
   "outputs": [],
   "source": [
    "cnn.add(tf.keras.layers.Conv2D(filters=32, kernel_size=3, activation='relu', input_shape=[64, 64, 3]))"
   ]
  },
  {
   "cell_type": "markdown",
   "metadata": {
    "id": "tf87FpvxmNOJ"
   },
   "source": [
    "### Step 2 - Pooling"
   ]
  },
  {
   "cell_type": "code",
   "execution_count": 8,
   "metadata": {
    "id": "bIENwt5P5ppW"
   },
   "outputs": [],
   "source": [
    "cnn.add(tf.keras.layers.MaxPool2D(pool_size=2, strides=2))"
   ]
  },
  {
   "cell_type": "markdown",
   "metadata": {
    "id": "xaTOgD8rm4mU"
   },
   "source": [
    "### Adding a second convolutional layer"
   ]
  },
  {
   "cell_type": "code",
   "execution_count": 9,
   "metadata": {
    "id": "YgqizwHh6hht"
   },
   "outputs": [],
   "source": [
    "cnn.add(tf.keras.layers.Conv2D(filters=32, kernel_size=3, activation='relu'))\n",
    "cnn.add(tf.keras.layers.MaxPool2D(pool_size=2, strides=2))"
   ]
  },
  {
   "cell_type": "markdown",
   "metadata": {
    "id": "tmiEuvTunKfk"
   },
   "source": [
    "### Step 3 - Flattening"
   ]
  },
  {
   "cell_type": "code",
   "execution_count": 10,
   "metadata": {
    "id": "Rc8TITG16tHy"
   },
   "outputs": [],
   "source": [
    "cnn.add(tf.keras.layers.Flatten())"
   ]
  },
  {
   "cell_type": "markdown",
   "metadata": {
    "id": "dAoSECOm203v"
   },
   "source": [
    "### Step 4 - Full Connection"
   ]
  },
  {
   "cell_type": "code",
   "execution_count": 11,
   "metadata": {
    "id": "PnSIOPbf62Ga"
   },
   "outputs": [],
   "source": [
    "cnn.add(tf.keras.layers.Dense(units=124, activation='relu'))"
   ]
  },
  {
   "cell_type": "markdown",
   "metadata": {
    "id": "yTldFvbX28Na"
   },
   "source": [
    "### Step 5 - Output Layer"
   ]
  },
  {
   "cell_type": "code",
   "execution_count": 12,
   "metadata": {
    "id": "FAeNb2Ol7RrV"
   },
   "outputs": [],
   "source": [
    "cnn.add(tf.keras.layers.Dense(units=1, activation='sigmoid'))"
   ]
  },
  {
   "cell_type": "markdown",
   "metadata": {
    "id": "D6XkI90snSDl"
   },
   "source": [
    "## Part 3 - Training the CNN"
   ]
  },
  {
   "cell_type": "markdown",
   "metadata": {
    "id": "vfrFQACEnc6i"
   },
   "source": [
    "### Compiling the CNN"
   ]
  },
  {
   "cell_type": "code",
   "execution_count": 13,
   "metadata": {
    "id": "LdKyi_327lfs"
   },
   "outputs": [],
   "source": [
    "cnn.compile(optimizer='adam', loss='binary_crossentropy', metrics=['accuracy'])"
   ]
  },
  {
   "cell_type": "code",
   "execution_count": 14,
   "metadata": {},
   "outputs": [
    {
     "name": "stdout",
     "output_type": "stream",
     "text": [
      "Model: \"sequential\"\n",
      "_________________________________________________________________\n",
      " Layer (type)                Output Shape              Param #   \n",
      "=================================================================\n",
      " conv2d (Conv2D)             (None, 62, 62, 32)        896       \n",
      "                                                                 \n",
      " conv2d_1 (Conv2D)           (None, 60, 60, 32)        9248      \n",
      "                                                                 \n",
      " max_pooling2d (MaxPooling2D  (None, 30, 30, 32)       0         \n",
      " )                                                               \n",
      "                                                                 \n",
      " conv2d_2 (Conv2D)           (None, 28, 28, 32)        9248      \n",
      "                                                                 \n",
      " max_pooling2d_1 (MaxPooling  (None, 14, 14, 32)       0         \n",
      " 2D)                                                             \n",
      "                                                                 \n",
      " flatten (Flatten)           (None, 6272)              0         \n",
      "                                                                 \n",
      " dense (Dense)               (None, 124)               777852    \n",
      "                                                                 \n",
      " dense_1 (Dense)             (None, 1)                 125       \n",
      "                                                                 \n",
      "=================================================================\n",
      "Total params: 797,369\n",
      "Trainable params: 797,369\n",
      "Non-trainable params: 0\n",
      "_________________________________________________________________\n"
     ]
    }
   ],
   "source": [
    "cnn.summary()"
   ]
  },
  {
   "cell_type": "markdown",
   "metadata": {
    "id": "ehS-v3MIpX2h"
   },
   "source": [
    "### Training the CNN on the Training set and evaluating it on the Test set"
   ]
  },
  {
   "cell_type": "code",
   "execution_count": 15,
   "metadata": {
    "id": "B0NK4ADJ8I3h"
   },
   "outputs": [
    {
     "name": "stdout",
     "output_type": "stream",
     "text": [
      "Epoch 1/30\n",
      "250/250 [==============================] - 138s 543ms/step - loss: 0.6668 - accuracy: 0.5938 - val_loss: 0.6077 - val_accuracy: 0.6835\n",
      "Epoch 2/30\n",
      "250/250 [==============================] - 67s 270ms/step - loss: 0.5888 - accuracy: 0.6852 - val_loss: 0.5538 - val_accuracy: 0.7100\n",
      "Epoch 3/30\n",
      "250/250 [==============================] - 67s 268ms/step - loss: 0.5356 - accuracy: 0.7280 - val_loss: 0.5136 - val_accuracy: 0.7520\n",
      "Epoch 4/30\n",
      "250/250 [==============================] - 75s 298ms/step - loss: 0.5000 - accuracy: 0.7525 - val_loss: 0.4848 - val_accuracy: 0.7635\n",
      "Epoch 5/30\n",
      "250/250 [==============================] - 72s 287ms/step - loss: 0.4669 - accuracy: 0.7764 - val_loss: 0.4503 - val_accuracy: 0.7905\n",
      "Epoch 6/30\n",
      "250/250 [==============================] - 66s 263ms/step - loss: 0.4435 - accuracy: 0.7929 - val_loss: 0.4577 - val_accuracy: 0.7830\n",
      "Epoch 7/30\n",
      "250/250 [==============================] - 68s 270ms/step - loss: 0.4298 - accuracy: 0.7983 - val_loss: 0.4556 - val_accuracy: 0.7895\n",
      "Epoch 8/30\n",
      "250/250 [==============================] - 70s 280ms/step - loss: 0.4137 - accuracy: 0.8061 - val_loss: 0.4281 - val_accuracy: 0.8090\n",
      "Epoch 9/30\n",
      "250/250 [==============================] - 69s 277ms/step - loss: 0.4031 - accuracy: 0.8095 - val_loss: 0.4277 - val_accuracy: 0.8025\n",
      "Epoch 10/30\n",
      "250/250 [==============================] - 78s 313ms/step - loss: 0.3742 - accuracy: 0.8275 - val_loss: 0.4125 - val_accuracy: 0.8140\n",
      "Epoch 11/30\n",
      "250/250 [==============================] - 75s 298ms/step - loss: 0.3654 - accuracy: 0.8367 - val_loss: 0.4270 - val_accuracy: 0.8100\n",
      "Epoch 12/30\n",
      "250/250 [==============================] - 75s 299ms/step - loss: 0.3612 - accuracy: 0.8330 - val_loss: 0.4275 - val_accuracy: 0.8280\n",
      "Epoch 13/30\n",
      "250/250 [==============================] - 73s 294ms/step - loss: 0.3400 - accuracy: 0.8470 - val_loss: 0.4151 - val_accuracy: 0.8175\n",
      "Epoch 14/30\n",
      "250/250 [==============================] - 72s 286ms/step - loss: 0.3326 - accuracy: 0.8510 - val_loss: 0.4523 - val_accuracy: 0.8160\n",
      "Epoch 15/30\n",
      "250/250 [==============================] - 77s 308ms/step - loss: 0.3198 - accuracy: 0.8585 - val_loss: 0.4391 - val_accuracy: 0.8155\n",
      "Epoch 16/30\n",
      "250/250 [==============================] - 92s 367ms/step - loss: 0.3115 - accuracy: 0.8630 - val_loss: 0.4890 - val_accuracy: 0.7935\n",
      "Epoch 17/30\n",
      "250/250 [==============================] - 77s 307ms/step - loss: 0.2823 - accuracy: 0.8805 - val_loss: 0.5155 - val_accuracy: 0.7855\n",
      "Epoch 18/30\n",
      "250/250 [==============================] - 74s 296ms/step - loss: 0.2706 - accuracy: 0.8859 - val_loss: 0.4730 - val_accuracy: 0.8165\n",
      "Epoch 19/30\n",
      "250/250 [==============================] - 70s 281ms/step - loss: 0.2518 - accuracy: 0.8928 - val_loss: 0.4406 - val_accuracy: 0.8410\n",
      "Epoch 20/30\n",
      "250/250 [==============================] - 74s 297ms/step - loss: 0.2516 - accuracy: 0.8954 - val_loss: 0.4681 - val_accuracy: 0.8290\n",
      "Epoch 21/30\n",
      "250/250 [==============================] - 76s 304ms/step - loss: 0.2322 - accuracy: 0.9011 - val_loss: 0.4593 - val_accuracy: 0.8240\n",
      "Epoch 22/30\n",
      "250/250 [==============================] - 69s 275ms/step - loss: 0.2138 - accuracy: 0.9153 - val_loss: 0.4525 - val_accuracy: 0.8405\n",
      "Epoch 23/30\n",
      "250/250 [==============================] - 68s 271ms/step - loss: 0.2010 - accuracy: 0.9226 - val_loss: 0.5067 - val_accuracy: 0.8320\n",
      "Epoch 24/30\n",
      "250/250 [==============================] - 79s 318ms/step - loss: 0.1992 - accuracy: 0.9176 - val_loss: 0.4686 - val_accuracy: 0.8425\n",
      "Epoch 25/30\n",
      "250/250 [==============================] - 86s 342ms/step - loss: 0.1878 - accuracy: 0.9230 - val_loss: 0.5170 - val_accuracy: 0.8315\n",
      "Epoch 26/30\n",
      "250/250 [==============================] - 78s 310ms/step - loss: 0.1799 - accuracy: 0.9310 - val_loss: 0.5401 - val_accuracy: 0.8215\n",
      "Epoch 27/30\n",
      "250/250 [==============================] - 68s 272ms/step - loss: 0.1640 - accuracy: 0.9354 - val_loss: 0.5558 - val_accuracy: 0.8255\n",
      "Epoch 28/30\n",
      "250/250 [==============================] - 68s 273ms/step - loss: 0.1547 - accuracy: 0.9385 - val_loss: 0.5597 - val_accuracy: 0.8180\n",
      "Epoch 29/30\n",
      "250/250 [==============================] - 70s 281ms/step - loss: 0.1429 - accuracy: 0.9427 - val_loss: 0.5743 - val_accuracy: 0.8195\n",
      "Epoch 30/30\n",
      "250/250 [==============================] - 81s 324ms/step - loss: 0.1457 - accuracy: 0.9414 - val_loss: 0.5583 - val_accuracy: 0.8285\n"
     ]
    },
    {
     "data": {
      "text/plain": [
       "<keras.callbacks.History at 0x1ea9eb0c3d0>"
      ]
     },
     "execution_count": 15,
     "metadata": {},
     "output_type": "execute_result"
    }
   ],
   "source": [
    "cnn.fit(x = train_generator,\n",
    "        validation_data = test_generator,\n",
    "        epochs = 30\n",
    ")"
   ]
  },
  {
   "cell_type": "markdown",
   "metadata": {
    "id": "U3PZasO0006Z"
   },
   "source": [
    "## Part 4 - Making a single prediction"
   ]
  },
  {
   "cell_type": "code",
   "execution_count": 23,
   "metadata": {
    "id": "dw0IuRSo80d9"
   },
   "outputs": [
    {
     "name": "stdout",
     "output_type": "stream",
     "text": [
      "1/1 [==============================] - 0s 26ms/step\n"
     ]
    }
   ],
   "source": [
    "import numpy as np\n",
    "# from keras.preprocessing import image\n",
    "from keras.utils import load_img, img_to_array\n",
    "\n",
    "test_image = load_img('dataset/single_prediction/cat_or_dog_1.jpg', target_size=(64,64))\n",
    "test_image = img_to_array(test_image)\n",
    "test_image = np.expand_dims(test_image, axis=0)\n",
    "answer = cnn.predict(test_image)\n",
    "\n",
    "\n",
    "if answer[0][0] > 0.5:\n",
    "  prediction = 'dog'\n",
    "else:\n",
    "  prediction = 'cat'"
   ]
  },
  {
   "cell_type": "code",
   "execution_count": 24,
   "metadata": {},
   "outputs": [
    {
     "name": "stdout",
     "output_type": "stream",
     "text": [
      "dog\n"
     ]
    }
   ],
   "source": [
    "print(prediction)"
   ]
  },
  {
   "cell_type": "code",
   "execution_count": 25,
   "metadata": {},
   "outputs": [
    {
     "name": "stdout",
     "output_type": "stream",
     "text": [
      "1/1 [==============================] - 0s 41ms/step\n"
     ]
    }
   ],
   "source": [
    "test_image = load_img('dataset/single_prediction/cat_or_dog_2.jpg', target_size=(64,64))\n",
    "test_image = img_to_array(test_image)\n",
    "test_image = np.expand_dims(test_image, axis=0)\n",
    "answer = cnn.predict(test_image)\n",
    "\n",
    "\n",
    "if answer[0][0] > 0.5:\n",
    "  prediction = 'dog'\n",
    "else:\n",
    "  prediction = 'cat'"
   ]
  },
  {
   "cell_type": "code",
   "execution_count": 26,
   "metadata": {},
   "outputs": [
    {
     "name": "stdout",
     "output_type": "stream",
     "text": [
      "cat\n"
     ]
    }
   ],
   "source": [
    "print(prediction)"
   ]
  },
  {
   "cell_type": "code",
   "execution_count": null,
   "metadata": {},
   "outputs": [],
   "source": []
  }
 ],
 "metadata": {
  "colab": {
   "collapsed_sections": [],
   "provenance": []
  },
  "kernelspec": {
   "display_name": "Python 3 (ipykernel)",
   "language": "python",
   "name": "python3"
  },
  "language_info": {
   "codemirror_mode": {
    "name": "ipython",
    "version": 3
   },
   "file_extension": ".py",
   "mimetype": "text/x-python",
   "name": "python",
   "nbconvert_exporter": "python",
   "pygments_lexer": "ipython3",
   "version": "3.9.12"
  }
 },
 "nbformat": 4,
 "nbformat_minor": 1
}
