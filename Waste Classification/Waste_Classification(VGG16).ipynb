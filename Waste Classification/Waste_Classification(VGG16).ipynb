{
  "cells": [
    {
      "cell_type": "markdown",
      "metadata": {
        "id": "bSg5gBHUVB0d"
      },
      "source": [
        "**Importing Section**"
      ]
    },
    {
      "cell_type": "code",
      "execution_count": null,
      "metadata": {
        "id": "WnLT6INuSTLP"
      },
      "outputs": [],
      "source": [
        "import numpy as np\n",
        "import os\n",
        "import pandas as pd\n",
        "import torch\n",
        "\n",
        "from tensorflow.keras.optimizers import Adam, RMSprop\n",
        "from tensorflow.keras import Model, Sequential\n",
        "from tensorflow.keras.layers import Dense, Flatten, Dropout\n",
        "from tensorflow.keras.applications.vgg16 import VGG16\n",
        "from tensorflow.keras import layers"
      ]
    },
    {
      "cell_type": "code",
      "execution_count": null,
      "metadata": {
        "colab": {
          "base_uri": "https://localhost:8080/"
        },
        "id": "gPrblJ8gMP1I",
        "outputId": "30fbacd7-e92d-4609-82cf-311ac0f433d8"
      },
      "outputs": [
        {
          "output_type": "stream",
          "name": "stdout",
          "text": [
            "Compute dtype: float16\n",
            "Variable dtype: float32\n"
          ]
        }
      ],
      "source": [
        "from tensorflow.keras.mixed_precision import experimental as mixed_precision\n",
        "policy = mixed_precision.Policy('mixed_float16')\n",
        "mixed_precision.set_policy(policy)\n",
        "print('Compute dtype: %s' % policy.compute_dtype)\n",
        "print('Variable dtype: %s' % policy.variable_dtype)"
      ]
    },
    {
      "cell_type": "markdown",
      "metadata": {
        "id": "CrRqh71SVHdT"
      },
      "source": [
        "**Mounting Google Drive**"
      ]
    },
    {
      "cell_type": "code",
      "execution_count": null,
      "metadata": {
        "colab": {
          "base_uri": "https://localhost:8080/"
        },
        "id": "bA9aq5x8VOAc",
        "outputId": "3c7437b6-292c-49c8-f4d4-49c68711b1b3"
      },
      "outputs": [
        {
          "output_type": "stream",
          "name": "stdout",
          "text": [
            "Mounted at /content/drive\n"
          ]
        }
      ],
      "source": [
        "from google.colab import drive\n",
        "drive.mount('/content/drive')"
      ]
    },
    {
      "cell_type": "markdown",
      "metadata": {
        "id": "4ZJ5ggFRVtLd"
      },
      "source": [
        "**Initializing The Path Folders of train, test, validation directories.**\n"
      ]
    },
    {
      "cell_type": "code",
      "execution_count": null,
      "metadata": {
        "id": "pcLKTsZvWKCs"
      },
      "outputs": [],
      "source": [
        "train_directory      = \"/content/drive/MyDrive/Research/TrashNet/train\"\n",
        "test_directory       = \"/content/drive/MyDrive/Research/TrashNet/test\"\n",
        "validation_directory = \"/content/drive/MyDrive/Research/TrashNet/validation\""
      ]
    },
    {
      "cell_type": "code",
      "source": [
        "import tensorflow as tf\n",
        "import keras\n",
        "print(tf.__version__)"
      ],
      "metadata": {
        "colab": {
          "base_uri": "https://localhost:8080/"
        },
        "id": "HZiPW4dqfMgS",
        "outputId": "ea09be70-8e08-4138-ed3d-f76a8e8f6ca2"
      },
      "execution_count": null,
      "outputs": [
        {
          "output_type": "stream",
          "name": "stdout",
          "text": [
            "2.8.2\n"
          ]
        }
      ]
    },
    {
      "cell_type": "markdown",
      "metadata": {
        "id": "GOKa05oi0GMm"
      },
      "source": [
        "**Creating a VGG16 Model**"
      ]
    },
    {
      "cell_type": "code",
      "execution_count": null,
      "metadata": {
        "id": "1luWQabUa76k",
        "colab": {
          "base_uri": "https://localhost:8080/"
        },
        "outputId": "a24a356f-35b7-48a1-8b53-474517320909"
      },
      "outputs": [
        {
          "output_type": "stream",
          "name": "stdout",
          "text": [
            "Downloading data from https://storage.googleapis.com/tensorflow/keras-applications/vgg16/vgg16_weights_tf_dim_ordering_tf_kernels_notop.h5\n",
            "58892288/58889256 [==============================] - 0s 0us/step\n",
            "58900480/58889256 [==============================] - 0s 0us/step\n"
          ]
        }
      ],
      "source": [
        "image_size = [128, 128]\n",
        "batch_size = 32\n",
        "model1 = VGG16(include_top= False, input_shape=image_size+[3])"
      ]
    },
    {
      "cell_type": "markdown",
      "metadata": {
        "id": "zCp3AtNmyuwX"
      },
      "source": [
        "**Generating Batches of tensor image data with real-time image augmentation**"
      ]
    },
    {
      "cell_type": "code",
      "execution_count": null,
      "metadata": {
        "colab": {
          "base_uri": "https://localhost:8080/"
        },
        "id": "X10LzyRFwzxB",
        "outputId": "3d6ce7a1-5f0f-4120-93eb-9e87517d4bd2"
      },
      "outputs": [
        {
          "output_type": "stream",
          "name": "stdout",
          "text": [
            "Found 1770 images belonging to 6 classes.\n",
            "Found 518 images belonging to 6 classes.\n",
            "Found 239 images belonging to 6 classes.\n"
          ]
        }
      ],
      "source": [
        "datagen_train = tf.keras.preprocessing.image.ImageDataGenerator(\n",
        "    rescale = 1./255,\n",
        "    width_shift_range = 0.1,\n",
        "    height_shift_range = 0.1,\n",
        "    horizontal_flip = True,\n",
        "    vertical_flip = True,\n",
        "    rotation_range=45,\n",
        ")\n",
        "\n",
        "datagen_test = tf.keras.preprocessing.image.ImageDataGenerator(rescale = 1./255) #rescaling/normalizing value between 1 and 0\n",
        "\n",
        "datagen_validation = tf.keras.preprocessing.image.ImageDataGenerator(rescale = 1./255)\n",
        "\n",
        "train_generator = datagen_train.flow_from_directory(\n",
        "    directory = train_directory,\n",
        "    target_size = image_size,\n",
        "    batch_size = batch_size,\n",
        "    shuffle = True\n",
        "    )\n",
        "\n",
        "test_generator = datagen_test.flow_from_directory(\n",
        "    directory = test_directory,\n",
        "    target_size = image_size,\n",
        "    batch_size = batch_size,\n",
        "    shuffle = True\n",
        "    )\n",
        "\n",
        "validation_generator = datagen_validation.flow_from_directory(\n",
        "    directory = validation_directory,\n",
        "    target_size = image_size,\n",
        "    batch_size = batch_size,\n",
        "    shuffle = True\n",
        "    )"
      ]
    },
    {
      "cell_type": "markdown",
      "metadata": {
        "id": "EFs75lVX0OKY"
      },
      "source": [
        "**Adding Flatten and Dense Layers**"
      ]
    },
    {
      "cell_type": "code",
      "execution_count": null,
      "metadata": {
        "id": "5zQT6XGozS33"
      },
      "outputs": [],
      "source": [
        "headModel = model1.output\n",
        "headModel = layers.Flatten()(headModel)\n",
        "headModel = Dropout(0.5)(headModel)\n",
        "headModel = Dense(512, activation=\"relu\")(headModel)\n",
        "headModel = Dropout(0.5)(headModel)\n",
        "headModel = Dense(6, activation=\"softmax\")(headModel)\n",
        "model = Model(inputs=model1.input, outputs=headModel, name='VGG16')"
      ]
    },
    {
      "cell_type": "markdown",
      "metadata": {
        "id": "ykSUHbJc7Gl1"
      },
      "source": [
        "**Adding Optimizer**"
      ]
    },
    {
      "cell_type": "code",
      "execution_count": null,
      "metadata": {
        "colab": {
          "base_uri": "https://localhost:8080/"
        },
        "id": "PUiZ5mZn64Yh",
        "outputId": "1b723e48-b9f5-46a5-d5a0-4e6ed2a8bbdb"
      },
      "outputs": [
        {
          "output_type": "stream",
          "name": "stderr",
          "text": [
            "/usr/local/lib/python3.7/dist-packages/keras/optimizer_v2/adam.py:105: UserWarning: The `lr` argument is deprecated, use `learning_rate` instead.\n",
            "  super(Adam, self).__init__(name, **kwargs)\n",
            "WARNING:tensorflow:tf.keras.mixed_precision.experimental.LossScaleOptimizer is deprecated. Please use tf.keras.mixed_precision.LossScaleOptimizer instead. Note that the non-experimental LossScaleOptimizer does not take a DynamicLossScale but instead takes the dynamic configuration directly in the constructor. For example:\n",
            "  opt = tf.keras.mixed_precision.LossScaleOptimizer(opt)\n",
            "\n"
          ]
        }
      ],
      "source": [
        "optimizer = Adam(lr=1e-5)\n",
        "loss      = 'categorical_crossentropy'\n",
        "metrics   = ['accuracy', tf.keras.metrics.Precision(), tf.keras.metrics.Recall()]\n",
        "\n",
        "model.compile(optimizer=optimizer, loss=loss, metrics=metrics)"
      ]
    },
    {
      "cell_type": "code",
      "execution_count": null,
      "metadata": {
        "colab": {
          "base_uri": "https://localhost:8080/"
        },
        "id": "L4btor8I6-9W",
        "outputId": "63b9d3f2-5d5d-4064-aafd-e4652d547f0b"
      },
      "outputs": [
        {
          "output_type": "stream",
          "name": "stdout",
          "text": [
            "Model: \"VGG16\"\n",
            "_________________________________________________________________\n",
            " Layer (type)                Output Shape              Param #   \n",
            "=================================================================\n",
            " input_1 (InputLayer)        [(None, 128, 128, 3)]     0         \n",
            "                                                                 \n",
            " block1_conv1 (Conv2D)       (None, 128, 128, 64)      1792      \n",
            "                                                                 \n",
            " block1_conv2 (Conv2D)       (None, 128, 128, 64)      36928     \n",
            "                                                                 \n",
            " block1_pool (MaxPooling2D)  (None, 64, 64, 64)        0         \n",
            "                                                                 \n",
            " block2_conv1 (Conv2D)       (None, 64, 64, 128)       73856     \n",
            "                                                                 \n",
            " block2_conv2 (Conv2D)       (None, 64, 64, 128)       147584    \n",
            "                                                                 \n",
            " block2_pool (MaxPooling2D)  (None, 32, 32, 128)       0         \n",
            "                                                                 \n",
            " block3_conv1 (Conv2D)       (None, 32, 32, 256)       295168    \n",
            "                                                                 \n",
            " block3_conv2 (Conv2D)       (None, 32, 32, 256)       590080    \n",
            "                                                                 \n",
            " block3_conv3 (Conv2D)       (None, 32, 32, 256)       590080    \n",
            "                                                                 \n",
            " block3_pool (MaxPooling2D)  (None, 16, 16, 256)       0         \n",
            "                                                                 \n",
            " block4_conv1 (Conv2D)       (None, 16, 16, 512)       1180160   \n",
            "                                                                 \n",
            " block4_conv2 (Conv2D)       (None, 16, 16, 512)       2359808   \n",
            "                                                                 \n",
            " block4_conv3 (Conv2D)       (None, 16, 16, 512)       2359808   \n",
            "                                                                 \n",
            " block4_pool (MaxPooling2D)  (None, 8, 8, 512)         0         \n",
            "                                                                 \n",
            " block5_conv1 (Conv2D)       (None, 8, 8, 512)         2359808   \n",
            "                                                                 \n",
            " block5_conv2 (Conv2D)       (None, 8, 8, 512)         2359808   \n",
            "                                                                 \n",
            " block5_conv3 (Conv2D)       (None, 8, 8, 512)         2359808   \n",
            "                                                                 \n",
            " block5_pool (MaxPooling2D)  (None, 4, 4, 512)         0         \n",
            "                                                                 \n",
            " flatten (Flatten)           (None, 8192)              0         \n",
            "                                                                 \n",
            " dropout (Dropout)           (None, 8192)              0         \n",
            "                                                                 \n",
            " dense (Dense)               (None, 512)               4194816   \n",
            "                                                                 \n",
            " dropout_1 (Dropout)         (None, 512)               0         \n",
            "                                                                 \n",
            " dense_1 (Dense)             (None, 6)                 3078      \n",
            "                                                                 \n",
            "=================================================================\n",
            "Total params: 18,912,582\n",
            "Trainable params: 18,912,582\n",
            "Non-trainable params: 0\n",
            "_________________________________________________________________\n"
          ]
        }
      ],
      "source": [
        "model.summary()"
      ]
    },
    {
      "cell_type": "markdown",
      "metadata": {
        "id": "Bti759zT75vl"
      },
      "source": [
        "**Google Drive Checkpoint**"
      ]
    },
    {
      "cell_type": "code",
      "source": [
        "from keras.callbacks import EarlyStopping\n",
        "\n",
        "earlystop = EarlyStopping(\n",
        "    monitor = 'val_loss', min_delta = 0, \n",
        "    patience = 10, verbose = 1, mode = 'min'\n",
        ")"
      ],
      "metadata": {
        "id": "dN3Z9yOsYylM"
      },
      "execution_count": null,
      "outputs": []
    },
    {
      "cell_type": "code",
      "source": [
        "!pip install pyyaml h5py  # Required to save models in HDF5 format"
      ],
      "metadata": {
        "colab": {
          "base_uri": "https://localhost:8080/"
        },
        "id": "HPWh3nuQegEP",
        "outputId": "5db0821f-3a71-4a79-eb78-f3ae8e993326"
      },
      "execution_count": null,
      "outputs": [
        {
          "output_type": "stream",
          "name": "stdout",
          "text": [
            "Looking in indexes: https://pypi.org/simple, https://us-python.pkg.dev/colab-wheels/public/simple/\n",
            "Requirement already satisfied: pyyaml in /usr/local/lib/python3.7/dist-packages (6.0)\n",
            "Requirement already satisfied: h5py in /usr/local/lib/python3.7/dist-packages (3.1.0)\n",
            "Requirement already satisfied: numpy>=1.14.5 in /usr/local/lib/python3.7/dist-packages (from h5py) (1.21.6)\n",
            "Requirement already satisfied: cached-property in /usr/local/lib/python3.7/dist-packages (from h5py) (1.5.2)\n"
          ]
        }
      ]
    },
    {
      "cell_type": "code",
      "source": [
        "checkpoint_path = \"training_1/cp.ckpt\"\n",
        "cp_callback = tf.keras.callbacks.ModelCheckpoint(filepath=checkpoint_path,\n",
        "                                                 save_weights_only=True,\n",
        "                                                 verbose=1)"
      ],
      "metadata": {
        "id": "oJP74icYe2DH"
      },
      "execution_count": null,
      "outputs": []
    },
    {
      "cell_type": "code",
      "source": [
        "my_callbacks = [cp_callback, earlystop]"
      ],
      "metadata": {
        "id": "CvdUr5x6fB_2"
      },
      "execution_count": null,
      "outputs": []
    },
    {
      "cell_type": "markdown",
      "metadata": {
        "id": "bM0ahCPG9u_N"
      },
      "source": [
        "**Simulating Epochs**"
      ]
    },
    {
      "cell_type": "code",
      "execution_count": null,
      "metadata": {
        "colab": {
          "base_uri": "https://localhost:8080/"
        },
        "id": "j2zZDzYQ9uot",
        "outputId": "3216b90d-54be-4970-9008-b256c72f5bb0"
      },
      "outputs": [
        {
          "output_type": "stream",
          "name": "stdout",
          "text": [
            "Epoch 1/100\n",
            "56/56 [==============================] - ETA: 0s - loss: 2.1872 - accuracy: 0.1780 - precision: 0.1651 - recall: 0.0492\n",
            "Epoch 1: saving model to training_1/cp.ckpt\n",
            "56/56 [==============================] - 648s 11s/step - loss: 2.1872 - accuracy: 0.1780 - precision: 0.1651 - recall: 0.0492 - val_loss: 1.6198 - val_accuracy: 0.3933 - val_precision: 0.0000e+00 - val_recall: 0.0000e+00\n",
            "Epoch 2/100\n",
            "56/56 [==============================] - ETA: 0s - loss: 1.8344 - accuracy: 0.2870 - precision: 0.3727 - recall: 0.1124\n",
            "Epoch 2: saving model to training_1/cp.ckpt\n",
            "56/56 [==============================] - 18s 324ms/step - loss: 1.8344 - accuracy: 0.2870 - precision: 0.3727 - recall: 0.1124 - val_loss: 1.4526 - val_accuracy: 0.5063 - val_precision: 0.8333 - val_recall: 0.0628\n",
            "Epoch 3/100\n",
            "56/56 [==============================] - ETA: 0s - loss: 1.5991 - accuracy: 0.3763 - precision: 0.5276 - recall: 0.2107\n",
            "Epoch 3: saving model to training_1/cp.ckpt\n",
            "56/56 [==============================] - 20s 348ms/step - loss: 1.5991 - accuracy: 0.3763 - precision: 0.5276 - recall: 0.2107 - val_loss: 1.2739 - val_accuracy: 0.5356 - val_precision: 0.8415 - val_recall: 0.2887\n",
            "Epoch 4/100\n",
            "56/56 [==============================] - ETA: 0s - loss: 1.4686 - accuracy: 0.4367 - precision: 0.5652 - recall: 0.2571\n",
            "Epoch 4: saving model to training_1/cp.ckpt\n",
            "56/56 [==============================] - 19s 342ms/step - loss: 1.4686 - accuracy: 0.4367 - precision: 0.5652 - recall: 0.2571 - val_loss: 1.1527 - val_accuracy: 0.6067 - val_precision: 0.8173 - val_recall: 0.3556\n",
            "Epoch 5/100\n",
            "56/56 [==============================] - ETA: 0s - loss: 1.3139 - accuracy: 0.4831 - precision: 0.6395 - recall: 0.3418\n",
            "Epoch 5: saving model to training_1/cp.ckpt\n",
            "56/56 [==============================] - 19s 330ms/step - loss: 1.3139 - accuracy: 0.4831 - precision: 0.6395 - recall: 0.3418 - val_loss: 1.0493 - val_accuracy: 0.6485 - val_precision: 0.8083 - val_recall: 0.4059\n",
            "Epoch 6/100\n",
            "56/56 [==============================] - ETA: 0s - loss: 1.1686 - accuracy: 0.5542 - precision: 0.6851 - recall: 0.4068\n",
            "Epoch 6: saving model to training_1/cp.ckpt\n",
            "56/56 [==============================] - 18s 316ms/step - loss: 1.1686 - accuracy: 0.5542 - precision: 0.6851 - recall: 0.4068 - val_loss: 1.0037 - val_accuracy: 0.6444 - val_precision: 0.7603 - val_recall: 0.4644\n",
            "Epoch 7/100\n",
            "56/56 [==============================] - ETA: 0s - loss: 1.0568 - accuracy: 0.6079 - precision: 0.7134 - recall: 0.4655\n",
            "Epoch 7: saving model to training_1/cp.ckpt\n",
            "56/56 [==============================] - 18s 316ms/step - loss: 1.0568 - accuracy: 0.6079 - precision: 0.7134 - recall: 0.4655 - val_loss: 0.9471 - val_accuracy: 0.6695 - val_precision: 0.7866 - val_recall: 0.5397\n",
            "Epoch 8/100\n",
            "56/56 [==============================] - ETA: 0s - loss: 0.9595 - accuracy: 0.6333 - precision: 0.7525 - recall: 0.5186\n",
            "Epoch 8: saving model to training_1/cp.ckpt\n",
            "56/56 [==============================] - 19s 345ms/step - loss: 0.9595 - accuracy: 0.6333 - precision: 0.7525 - recall: 0.5186 - val_loss: 0.9014 - val_accuracy: 0.6862 - val_precision: 0.8217 - val_recall: 0.5397\n",
            "Epoch 9/100\n",
            "56/56 [==============================] - ETA: 0s - loss: 0.8999 - accuracy: 0.6672 - precision: 0.7593 - recall: 0.5508\n",
            "Epoch 9: saving model to training_1/cp.ckpt\n",
            "56/56 [==============================] - 18s 326ms/step - loss: 0.8999 - accuracy: 0.6672 - precision: 0.7593 - recall: 0.5508 - val_loss: 0.8468 - val_accuracy: 0.6904 - val_precision: 0.8182 - val_recall: 0.5649\n",
            "Epoch 10/100\n",
            "56/56 [==============================] - ETA: 0s - loss: 0.8277 - accuracy: 0.6915 - precision: 0.7737 - recall: 0.5853\n",
            "Epoch 10: saving model to training_1/cp.ckpt\n",
            "56/56 [==============================] - 17s 310ms/step - loss: 0.8277 - accuracy: 0.6915 - precision: 0.7737 - recall: 0.5853 - val_loss: 0.9081 - val_accuracy: 0.6778 - val_precision: 0.7802 - val_recall: 0.5941\n",
            "Epoch 11/100\n",
            "56/56 [==============================] - ETA: 0s - loss: 0.7384 - accuracy: 0.7282 - precision: 0.8049 - recall: 0.6435\n",
            "Epoch 11: saving model to training_1/cp.ckpt\n",
            "56/56 [==============================] - 18s 316ms/step - loss: 0.7384 - accuracy: 0.7282 - precision: 0.8049 - recall: 0.6435 - val_loss: 0.8945 - val_accuracy: 0.6946 - val_precision: 0.8053 - val_recall: 0.6402\n",
            "Epoch 12/100\n",
            "56/56 [==============================] - ETA: 0s - loss: 0.6806 - accuracy: 0.7588 - precision: 0.8219 - recall: 0.6831\n",
            "Epoch 12: saving model to training_1/cp.ckpt\n",
            "56/56 [==============================] - 17s 307ms/step - loss: 0.6806 - accuracy: 0.7588 - precision: 0.8219 - recall: 0.6831 - val_loss: 0.8536 - val_accuracy: 0.7113 - val_precision: 0.7917 - val_recall: 0.6360\n",
            "Epoch 13/100\n",
            "56/56 [==============================] - ETA: 0s - loss: 0.6629 - accuracy: 0.7599 - precision: 0.8276 - recall: 0.6915\n",
            "Epoch 13: saving model to training_1/cp.ckpt\n",
            "56/56 [==============================] - 18s 312ms/step - loss: 0.6629 - accuracy: 0.7599 - precision: 0.8276 - recall: 0.6915 - val_loss: 0.9196 - val_accuracy: 0.7029 - val_precision: 0.7958 - val_recall: 0.6360\n",
            "Epoch 14/100\n",
            "56/56 [==============================] - ETA: 0s - loss: 0.6016 - accuracy: 0.7831 - precision: 0.8395 - recall: 0.7209\n",
            "Epoch 14: saving model to training_1/cp.ckpt\n",
            "56/56 [==============================] - 19s 336ms/step - loss: 0.6016 - accuracy: 0.7831 - precision: 0.8395 - recall: 0.7209 - val_loss: 0.9567 - val_accuracy: 0.6611 - val_precision: 0.7647 - val_recall: 0.5983\n",
            "Epoch 15/100\n",
            "56/56 [==============================] - ETA: 0s - loss: 0.6150 - accuracy: 0.7751 - precision: 0.8423 - recall: 0.7181\n",
            "Epoch 15: saving model to training_1/cp.ckpt\n",
            "56/56 [==============================] - 18s 321ms/step - loss: 0.6150 - accuracy: 0.7751 - precision: 0.8423 - recall: 0.7181 - val_loss: 0.9479 - val_accuracy: 0.7113 - val_precision: 0.8041 - val_recall: 0.6527\n",
            "Epoch 16/100\n",
            "56/56 [==============================] - ETA: 0s - loss: 0.5342 - accuracy: 0.8130 - precision: 0.8607 - recall: 0.7576\n",
            "Epoch 16: saving model to training_1/cp.ckpt\n",
            "56/56 [==============================] - 18s 325ms/step - loss: 0.5342 - accuracy: 0.8130 - precision: 0.8607 - recall: 0.7576 - val_loss: 0.8957 - val_accuracy: 0.7029 - val_precision: 0.7868 - val_recall: 0.6485\n",
            "Epoch 17/100\n",
            "56/56 [==============================] - ETA: 0s - loss: 0.5306 - accuracy: 0.8073 - precision: 0.8529 - recall: 0.7565\n",
            "Epoch 17: saving model to training_1/cp.ckpt\n",
            "56/56 [==============================] - 18s 324ms/step - loss: 0.5306 - accuracy: 0.8073 - precision: 0.8529 - recall: 0.7565 - val_loss: 0.9681 - val_accuracy: 0.6778 - val_precision: 0.7576 - val_recall: 0.6276\n",
            "Epoch 18/100\n",
            "56/56 [==============================] - ETA: 0s - loss: 0.4826 - accuracy: 0.8407 - precision: 0.8808 - recall: 0.7887\n",
            "Epoch 18: saving model to training_1/cp.ckpt\n",
            "56/56 [==============================] - 19s 338ms/step - loss: 0.4826 - accuracy: 0.8407 - precision: 0.8808 - recall: 0.7887 - val_loss: 0.8757 - val_accuracy: 0.7197 - val_precision: 0.7943 - val_recall: 0.6946\n",
            "Epoch 19/100\n",
            "56/56 [==============================] - ETA: 0s - loss: 0.4832 - accuracy: 0.8237 - precision: 0.8689 - recall: 0.7825\n",
            "Epoch 19: saving model to training_1/cp.ckpt\n",
            "56/56 [==============================] - 18s 317ms/step - loss: 0.4832 - accuracy: 0.8237 - precision: 0.8689 - recall: 0.7825 - val_loss: 0.9253 - val_accuracy: 0.7280 - val_precision: 0.7895 - val_recall: 0.6904\n",
            "Epoch 19: early stopping\n"
          ]
        }
      ],
      "source": [
        "epochs = 100\n",
        "\n",
        "\n",
        "history = model.fit(\n",
        "    train_generator,\n",
        "    epochs = epochs, \n",
        "    validation_data = validation_generator,\n",
        "    callbacks = my_callbacks\n",
        ")\n",
        "\n"
      ]
    },
    {
      "cell_type": "code",
      "source": [
        "model.save('VGG16_20epochs.h5')"
      ],
      "metadata": {
        "id": "14KbcoWHSb5H"
      },
      "execution_count": null,
      "outputs": []
    },
    {
      "cell_type": "markdown",
      "metadata": {
        "id": "xUp-JQmQbo6x"
      },
      "source": [
        "**Plotting and Graph**"
      ]
    },
    {
      "cell_type": "code",
      "execution_count": null,
      "metadata": {
        "id": "rUW4RCbfDu1s",
        "colab": {
          "base_uri": "https://localhost:8080/",
          "height": 295
        },
        "outputId": "edd8373e-463c-4deb-c15c-b5a70c8116d5"
      },
      "outputs": [
        {
          "output_type": "display_data",
          "data": {
            "text/plain": [
              "<Figure size 432x288 with 1 Axes>"
            ],
            "image/png": "[encoded data removed]"
          },
          "metadata": {
            "needs_background": "light"
          }
        }
      ],
      "source": [
        "import matplotlib.pyplot as plt\n",
        "\n",
        "\n",
        "plt.plot(history.history[\"accuracy\"])\n",
        "plt.plot(history.history['val_accuracy'])\n",
        "plt.title(\"Model Accuracy\")\n",
        "plt.ylabel(\"Accuracy\")\n",
        "plt.xlabel(\"Epoch\")\n",
        "plt.legend([\"Train Accuracy\",\"Validation Accuracy\"], loc = 'lower right')\n",
        "plt.show()"
      ]
    },
    {
      "cell_type": "code",
      "execution_count": null,
      "metadata": {
        "id": "42A507SsumKF",
        "colab": {
          "base_uri": "https://localhost:8080/",
          "height": 295
        },
        "outputId": "7ff71b7d-6d40-423b-da01-dd4853d85644"
      },
      "outputs": [
        {
          "output_type": "display_data",
          "data": {
            "text/plain": [
              "<Figure size 432x288 with 1 Axes>"
            ],
            "image/png": "[encoded data removed]"
          },
          "metadata": {
            "needs_background": "light"
          }
        }
      ],
      "source": [
        "plt.plot(history.history['loss'])\n",
        "plt.plot(history.history['val_loss'])\n",
        "plt.title(\"Model Loss\")\n",
        "plt.ylabel(\"Loss\")\n",
        "plt.xlabel(\"Epoch\")\n",
        "plt.legend([\"Train Loss\",\"Validation Loss\"], loc = 'upper right')\n",
        "plt.show()"
      ]
    },
    {
      "cell_type": "markdown",
      "metadata": {
        "id": "IXsYxZgXDkhm"
      },
      "source": [
        "**Prediction Test**"
      ]
    },
    {
      "cell_type": "code",
      "execution_count": null,
      "metadata": {
        "id": "Vr_AwUCTDa2F",
        "colab": {
          "base_uri": "https://localhost:8080/"
        },
        "outputId": "da044fcc-fecf-4b21-ed26-66a08542a277"
      },
      "outputs": [
        {
          "output_type": "stream",
          "name": "stdout",
          "text": [
            "Found 518 images belonging to 6 classes.\n"
          ]
        },
        {
          "output_type": "stream",
          "name": "stderr",
          "text": [
            "/usr/local/lib/python3.7/dist-packages/ipykernel_launcher.py:10: UserWarning: `Model.predict_generator` is deprecated and will be removed in a future version. Please use `Model.predict`, which supports generators.\n",
            "  # Remove the CWD from sys.path while we load stuff.\n"
          ]
        },
        {
          "output_type": "execute_result",
          "data": {
            "text/plain": [
              "array([[1.000e+00, 7.272e-06, 4.035e-05, 1.253e-04, 8.047e-06, 2.450e-05],\n",
              "       [1.000e+00, 8.047e-06, 6.372e-05, 7.331e-05, 7.331e-06, 2.044e-05],\n",
              "       [9.995e-01, 6.378e-06, 2.968e-05, 3.145e-04, 1.538e-05, 4.518e-05],\n",
              "       ...,\n",
              "       [1.678e-02, 2.690e-01, 3.604e-02, 7.666e-02, 1.713e-01, 4.304e-01],\n",
              "       [2.106e-02, 2.451e-02, 7.062e-02, 3.948e-01, 2.013e-02, 4.688e-01],\n",
              "       [4.053e-02, 2.603e-02, 7.684e-02, 1.946e-01, 1.717e-02, 6.450e-01]],\n",
              "      dtype=float16)"
            ]
          },
          "metadata": {},
          "execution_count": 22
        }
      ],
      "source": [
        "finaltestCNV_dir = test_directory\n",
        "datagen_finaltestCNV_dir = tf.keras.preprocessing.image.ImageDataGenerator(rescale=1./255)\n",
        "\n",
        "generator_finaltestCNV_dir = datagen_finaltestCNV_dir.flow_from_directory(directory=finaltestCNV_dir,\n",
        "                                                  target_size=image_size,\n",
        "                                                  batch_size=batch_size,\n",
        "                                                  shuffle=False)\n",
        "steps_finaltestCNV_dir = generator_finaltestCNV_dir.n / batch_size\n",
        "\n",
        "y_pred = model.predict_generator(generator_finaltestCNV_dir,steps = steps_finaltestCNV_dir)\n",
        "y_pred"
      ]
    },
    {
      "cell_type": "code",
      "execution_count": null,
      "metadata": {
        "id": "ukrABAA_ERk9",
        "colab": {
          "base_uri": "https://localhost:8080/"
        },
        "outputId": "34cbda3d-482d-44e2-bab6-0f03b73bded1"
      },
      "outputs": [
        {
          "output_type": "stream",
          "name": "stdout",
          "text": [
            "[0 0 0 0 0 0 0 0 0 0 0 0 0 3 0 4 0 0 0 0 0 0 0 0 0 0 0 0 0 0 0 0 0 0 0 0 0\n",
            " 0 0 0 0 0 0 0 0 0 0 0 0 0 3 0 0 0 0 0 0 0 0 0 0 0 0 0 0 2 0 0 0 0 0 0 3 3\n",
            " 0 0 0 0 0 0 1 1 1 1 1 1 3 1 1 1 1 1 1 1 1 1 1 1 1 1 1 1 1 1 1 1 1 1 1 1 1\n",
            " 2 1 1 2 1 1 1 1 1 1 1 1 1 1 1 1 1 1 1 0 5 1 2 1 2 1 2 2 2 1 1 1 1 1 2 2 1\n",
            " 1 1 1 1 1 1 1 1 1 1 1 1 1 1 1 1 1 1 1 1 1 1 1 2 2 1 4 1 1 1 2 1 2 2 2 2 2\n",
            " 2 2 5 3 2 2 2 2 1 1 2 2 2 2 2 2 2 2 2 2 2 2 2 2 1 2 0 2 3 2 2 2 2 2 2 0 2\n",
            " 2 2 2 2 2 4 2 2 2 2 2 2 2 2 2 2 2 2 2 2 2 2 4 2 2 4 2 1 2 2 2 2 2 2 2 2 2\n",
            " 2 2 1 2 2 4 2 2 2 2 2 3 3 3 3 0 3 3 5 3 3 3 3 3 3 3 3 3 3 3 3 3 3 3 3 3 5\n",
            " 3 3 3 3 3 3 3 3 3 3 3 3 3 3 3 3 3 3 3 3 3 3 2 3 3 3 3 3 3 3 3 3 3 3 3 3 3\n",
            " 3 3 3 3 3 3 3 3 3 3 3 3 3 3 3 5 3 3 3 3 3 3 3 3 0 3 3 3 3 3 3 3 3 3 3 3 3\n",
            " 1 3 5 3 3 3 3 3 3 3 3 3 3 3 3 5 3 3 3 3 4 4 1 4 2 1 4 2 4 4 4 3 4 4 4 4 1\n",
            " 4 4 4 1 4 4 2 4 4 4 2 2 4 1 4 4 4 2 4 4 4 4 5 4 4 1 4 1 4 4 4 1 4 1 4 4 4\n",
            " 4 4 2 4 4 4 4 4 4 4 4 4 4 4 4 4 4 1 4 4 4 1 4 4 4 4 4 4 4 4 4 2 4 2 4 4 4\n",
            " 4 2 4 1 4 4 4 4 4 5 5 1 5 5 3 5 1 3 5 3 5 2 5 5 5 2 5 5 3 0 3 5 3 0 5 5 5]\n"
          ]
        }
      ],
      "source": [
        "predicted_class_indices=np.argmax(y_pred,axis=1)\n",
        "print(predicted_class_indices)"
      ]
    },
    {
      "cell_type": "markdown",
      "metadata": {
        "id": "wJLa1RUMCz-1"
      },
      "source": [
        "**Adding Lebel on Test Image**"
      ]
    },
    {
      "cell_type": "code",
      "execution_count": null,
      "metadata": {
        "id": "G0ANmiTyCu_N",
        "colab": {
          "base_uri": "https://localhost:8080/"
        },
        "outputId": "1a09d885-bf7b-44aa-c5d1-d8b3a806fe67"
      },
      "outputs": [
        {
          "output_type": "stream",
          "name": "stdout",
          "text": [
            "[0, 0, 0, 0, 0, 0, 0, 0, 0, 0, 0, 0, 0, 0, 0, 0, 0, 0, 0, 0, 0, 0, 0, 0, 0, 0, 0, 0, 0, 0, 0, 0, 0, 0, 0, 0, 0, 0, 0, 0, 0, 0, 0, 0, 0, 0, 0, 0, 0, 0, 0, 0, 0, 0, 0, 0, 0, 0, 0, 0, 0, 0, 0, 0, 0, 0, 0, 0, 0, 0, 0, 0, 0, 0, 0, 0, 0, 0, 0, 0, 1, 1, 1, 1, 1, 1, 1, 1, 1, 1, 1, 1, 1, 1, 1, 1, 1, 1, 1, 1, 1, 1, 1, 1, 1, 1, 1, 1, 1, 1, 1, 1, 1, 1, 1, 1, 1, 1, 1, 1, 1, 1, 1, 1, 1, 1, 1, 1, 1, 1, 1, 1, 1, 1, 1, 1, 1, 1, 1, 1, 1, 1, 1, 1, 1, 1, 1, 1, 1, 1, 1, 1, 1, 1, 1, 1, 1, 1, 1, 1, 1, 1, 1, 1, 1, 1, 1, 1, 1, 1, 1, 1, 1, 1, 1, 1, 1, 1, 1, 1, 2, 2, 2, 2, 2, 2, 2, 2, 2, 2, 2, 2, 2, 2, 2, 2, 2, 2, 2, 2, 2, 2, 2, 2, 2, 2, 2, 2, 2, 2, 2, 2, 2, 2, 2, 2, 2, 2, 2, 2, 2, 2, 2, 2, 2, 2, 2, 2, 2, 2, 2, 2, 2, 2, 2, 2, 2, 2, 2, 2, 2, 2, 2, 2, 2, 2, 2, 2, 2, 2, 2, 2, 2, 2, 2, 2, 2, 2, 2, 2, 2, 2, 2, 2, 2, 2, 2, 2, 2, 2, 3, 3, 3, 3, 3, 3, 3, 3, 3, 3, 3, 3, 3, 3, 3, 3, 3, 3, 3, 3, 3, 3, 3, 3, 3, 3, 3, 3, 3, 3, 3, 3, 3, 3, 3, 3, 3, 3, 3, 3, 3, 3, 3, 3, 3, 3, 3, 3, 3, 3, 3, 3, 3, 3, 3, 3, 3, 3, 3, 3, 3, 3, 3, 3, 3, 3, 3, 3, 3, 3, 3, 3, 3, 3, 3, 3, 3, 3, 3, 3, 3, 3, 3, 3, 3, 3, 3, 3, 3, 3, 3, 3, 3, 3, 3, 3, 3, 3, 3, 3, 3, 3, 3, 3, 3, 3, 3, 3, 3, 3, 3, 3, 3, 3, 3, 3, 3, 3, 3, 3, 4, 4, 4, 4, 4, 4, 4, 4, 4, 4, 4, 4, 4, 4, 4, 4, 4, 4, 4, 4, 4, 4, 4, 4, 4, 4, 4, 4, 4, 4, 4, 4, 4, 4, 4, 4, 4, 4, 4, 4, 4, 4, 4, 4, 4, 4, 4, 4, 4, 4, 4, 4, 4, 4, 4, 4, 4, 4, 4, 4, 4, 4, 4, 4, 4, 4, 4, 4, 4, 4, 4, 4, 4, 4, 4, 4, 4, 4, 4, 4, 4, 4, 4, 4, 4, 4, 4, 4, 4, 4, 4, 4, 4, 4, 4, 4, 4, 4, 4, 4, 5, 5, 5, 5, 5, 5, 5, 5, 5, 5, 5, 5, 5, 5, 5, 5, 5, 5, 5, 5, 5, 5, 5, 5, 5, 5, 5, 5]\n"
          ]
        }
      ],
      "source": [
        "test_label = []\n",
        "cardboardLabel = 0\n",
        "glassLabel = 1\n",
        "metalLabel = 2\n",
        "paperLabel = 3\n",
        "plasticLabel = 4\n",
        "trashLabel = 5\n",
        "\n",
        "\n",
        "for i in range(80):\n",
        "    test_label.append(cardboardLabel)\n",
        "\n",
        "for i in range(100):\n",
        "    test_label.append(glassLabel)\n",
        "\n",
        "for i in range(90):\n",
        "    test_label.append(metalLabel)\n",
        "\n",
        "for i in range(120):\n",
        "    test_label.append(paperLabel)\n",
        "\n",
        "for i in range(100):\n",
        "    test_label.append(plasticLabel)\n",
        "\n",
        "for i in range(28):\n",
        "    test_label.append(trashLabel)\n",
        "\n",
        "\n",
        "\n",
        "\n",
        "\n",
        "print(test_label)"
      ]
    },
    {
      "cell_type": "code",
      "execution_count": null,
      "metadata": {
        "id": "JF4JZikoDNX9"
      },
      "outputs": [],
      "source": [
        "from sklearn.datasets import make_classification\n",
        "from sklearn.metrics import confusion_matrix, ConfusionMatrixDisplay\n",
        "from sklearn.model_selection import train_test_split\n",
        "from sklearn.svm import SVC\n",
        "import itertools"
      ]
    },
    {
      "cell_type": "code",
      "execution_count": null,
      "metadata": {
        "id": "_qBe__7vDWTd"
      },
      "outputs": [],
      "source": [
        "array = confusion_matrix(test_label, predicted_class_indices)"
      ]
    },
    {
      "cell_type": "code",
      "source": [
        "from sklearn.metrics import classification_report, confusion_matrix\n",
        "\n",
        "#Print Classification Report\n",
        "\n",
        "print('Classification Report')\n",
        "print(classification_report(test_label, predicted_class_indices, target_names=[\"carboard\", \"glass\",\"metal\",\"paper\",\"plastic\",\"trash\"]))"
      ],
      "metadata": {
        "colab": {
          "base_uri": "https://localhost:8080/"
        },
        "id": "ZMR0YwjcZdfN",
        "outputId": "c3222d5c-a229-4920-c1af-acd0a8a165f0"
      },
      "execution_count": null,
      "outputs": [
        {
          "output_type": "stream",
          "name": "stdout",
          "text": [
            "Classification Report\n",
            "              precision    recall  f1-score   support\n",
            "\n",
            "    carboard       0.91      0.93      0.92        80\n",
            "       glass       0.81      0.84      0.82       100\n",
            "       metal       0.75      0.84      0.79        90\n",
            "       paper       0.89      0.93      0.91       120\n",
            "     plastic       0.93      0.76      0.84       100\n",
            "       trash       0.67      0.57      0.62        28\n",
            "\n",
            "    accuracy                           0.84       518\n",
            "   macro avg       0.82      0.81      0.82       518\n",
            "weighted avg       0.85      0.84      0.84       518\n",
            "\n"
          ]
        }
      ]
    },
    {
      "cell_type": "code",
      "execution_count": null,
      "metadata": {
        "id": "wT35uJUCEYK_",
        "colab": {
          "base_uri": "https://localhost:8080/",
          "height": 609
        },
        "outputId": "86f9b4e8-eac3-42c3-d76d-5265667f5f05"
      },
      "outputs": [
        {
          "output_type": "execute_result",
          "data": {
            "text/plain": [
              "<matplotlib.axes._subplots.AxesSubplot at 0x7ff0ebfe0c90>"
            ]
          },
          "metadata": {},
          "execution_count": 28
        },
        {
          "output_type": "display_data",
          "data": {
            "text/plain": [
              "<Figure size 720x720 with 2 Axes>"
            ],
            "image/png": "[encoded data removed]"
          },
          "metadata": {
            "needs_background": "light"
          }
        }
      ],
      "source": [
        "import seaborn as sn\n",
        "import pandas as pd\n",
        "import matplotlib.pyplot as plt\n",
        "df_cm = pd.DataFrame(array, index = [\"carboard\", \"glass\",\"metal\",\"paper\",\"plastic\",\"trash\"],\n",
        "                  columns = [\"carboard\", \"glass\",\"metal\",\"paper\",\"plastic\",\"trash\"])\n",
        "plt.figure(figsize = (10,10))\n",
        "sn.heatmap(df_cm, annot=True, cmap='Blues', fmt='g')"
      ]
    }
  ],
  "metadata": {
    "accelerator": "GPU",
    "colab": {
      "background_execution": "on",
      "collapsed_sections": [],
      "machine_shape": "hm",
      "provenance": []
    },
    "kernelspec": {
      "display_name": "Python 3",
      "name": "python3"
    },
    "language_info": {
      "name": "python"
    }
  },
  "nbformat": 4,
  "nbformat_minor": 0
}